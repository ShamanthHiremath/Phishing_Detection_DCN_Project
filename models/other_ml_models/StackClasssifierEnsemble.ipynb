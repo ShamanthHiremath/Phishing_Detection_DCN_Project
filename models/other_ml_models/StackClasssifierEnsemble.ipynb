{
  "nbformat": 4,
  "nbformat_minor": 0,
  "metadata": {
    "colab": {
      "provenance": []
    },
    "kernelspec": {
      "name": "python3",
      "display_name": "Python 3"
    },
    "language_info": {
      "name": "python"
    }
  },
  "cells": [
    {
      "cell_type": "markdown",
      "source": [
        "# Stack Classifier Approach for optimising accuracy in Machine Learning Models"
      ],
      "metadata": {
        "id": "u_aAEi5jFEgV"
      }
    },
    {
      "cell_type": "code",
      "execution_count": 2,
      "metadata": {
        "id": "EQpg5gGEEw9J"
      },
      "outputs": [],
      "source": [
        "\n",
        "from sklearn.ensemble import RandomForestClassifier\n",
        "from sklearn.metrics import accuracy_score\n",
        "from sklearn.svm import LinearSVC\n",
        "from sklearn.linear_model import LogisticRegression\n",
        "from sklearn.naive_bayes import GaussianNB\n",
        "from sklearn.tree import DecisionTreeClassifier\n",
        "from sklearn.neighbors import KNeighborsClassifier\n",
        "from sklearn import model_selection\n",
        "from mlxtend.classifier import StackingClassifier\n",
        "\n",
        "import warnings\n",
        "warnings.filterwarnings(\"ignore\")"
      ]
    },
    {
      "cell_type": "code",
      "source": [
        "import pandas as pd\n",
        "\n",
        "# Importing the dataset\n",
        "dataset = pd.read_csv(\"phishyFeatures.csv\")\n",
        "dataset = dataset.drop('id', axis=1) # removing unwanted column\n",
        "\n",
        "x = dataset.iloc[:, :-1].values\n",
        "y = dataset.iloc[:, -1].values"
      ],
      "metadata": {
        "id": "yqW21EraHGmo"
      },
      "execution_count": 4,
      "outputs": []
    },
    {
      "cell_type": "code",
      "source": [
        "# Splitting the dataset into training set and test set\n",
        "from sklearn.model_selection import train_test_split\n",
        "x_train, x_test, y_train, y_test = train_test_split(x, y, test_size=0.25, random_state=0)"
      ],
      "metadata": {
        "id": "WeKX8Q1FHZQX"
      },
      "execution_count": 5,
      "outputs": []
    },
    {
      "cell_type": "code",
      "source": [
        "# Base Learner/Classifier Model defn\n",
        "svc = LinearSVC()\n",
        "knc = KNeighborsClassifier()\n",
        "dtc = DecisionTreeClassifier()\n",
        "lrc = LogisticRegression()\n",
        "rfc = RandomForestClassifier()"
      ],
      "metadata": {
        "id": "eJxrcnWGHZSi"
      },
      "execution_count": 20,
      "outputs": []
    },
    {
      "cell_type": "code",
      "source": [
        "# Meta Model Defn\n",
        "metamodel = LogisticRegression()"
      ],
      "metadata": {
        "id": "35WPr8qcH-Eh"
      },
      "execution_count": 21,
      "outputs": []
    },
    {
      "cell_type": "code",
      "source": [
        "# Stacking Classifier Defn\n",
        "stack_classifier = StackingClassifier(\n",
        "    classifiers=[svc, knc, dtc, lrc, rfc],\n",
        "    meta_classifier=metamodel\n",
        ")"
      ],
      "metadata": {
        "id": "vWiyPBHSH-HO"
      },
      "execution_count": 22,
      "outputs": []
    },
    {
      "cell_type": "code",
      "source": [
        "# List of classifiers and their labels\n",
        "classifiers = [svc, knc, dtc, lrc, rfc, stack_classifier]\n",
        "labels = ['SVC', 'KNN', 'DT', 'LR', 'RF', 'Stacking']\n",
        "\n",
        "# Evaluate each classifier\n",
        "for clf, label in zip(classifiers, labels):\n",
        "    scores = model_selection.cross_val_score(clf, x_train, y_train, cv=5)\n",
        "    print(\"Accuracy: %7f (+/- %0.2f) [%s]\" % (scores.mean()*100, scores.std(), label))"
      ],
      "metadata": {
        "colab": {
          "base_uri": "https://localhost:8080/"
        },
        "id": "o3NsmK9nH-J2",
        "outputId": "e440b608-cd8b-41f4-d88b-a62d67f808fa"
      },
      "execution_count": 23,
      "outputs": [
        {
          "output_type": "stream",
          "name": "stdout",
          "text": [
            "Accuracy: 92.932159 (+/- 0.01) [SVC]\n",
            "Accuracy: 94.077841 (+/- 0.01) [KNN]\n",
            "Accuracy: 96.007688 (+/- 0.01) [DT]\n",
            "Accuracy: 93.016598 (+/- 0.01) [LR]\n",
            "Accuracy: 97.177569 (+/- 0.01) [RF]\n",
            "Accuracy: 96.779594 (+/- 0.00) [Stacking]\n"
          ]
        }
      ]
    }
  ]
}